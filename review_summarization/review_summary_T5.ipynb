{
 "cells": [
  {
   "cell_type": "markdown",
   "metadata": {},
   "source": [
    "### 직무별-테마별 요약"
   ]
  },
  {
   "cell_type": "code",
   "execution_count": null,
   "metadata": {},
   "outputs": [],
   "source": [
    "# import libraries\n",
    "import pandas as pd\n",
    "import pickle\n",
    "import os\n",
    "from transformers import AutoTokenizer, AutoModelForSeq2SeqLM\n",
    "from transformers import T5Tokenizer, T5ForConditionalGeneration\n",
    "import nltk\n",
    "nltk.download('punkt')\n",
    "\n",
    "# !pip install transformers[torch]==4.27.4\n",
    "# !pip install protobuf==3.20"
   ]
  },
  {
   "cell_type": "code",
   "execution_count": null,
   "metadata": {},
   "outputs": [],
   "source": [
    "# make a folder if it's not exist yet\n",
    "def makedirs(path):\n",
    "    if not os.path.exists(path):\n",
    "        os.makedirs(path)"
   ]
  },
  {
   "cell_type": "markdown",
   "metadata": {},
   "source": [
    "##### T5\n",
    "* https://github.com/AIRC-KETI/ke-t5\n",
    "* https://github.com/AIRC-KETI/ke-t5#pretrained-models\n",
    "* https://github.com/AIRC-KETI/ke-t5-downstreams\n",
    "* https://huggingface.co/docs/transformers/model_doc/t5"
   ]
  },
  {
   "cell_type": "code",
   "execution_count": 35,
   "metadata": {},
   "outputs": [],
   "source": [
    "# t5 korean pretrained model lists\n",
    "\n",
    "# lcw99/t5-base-korean-text-summary\n",
    "# model_dir = \"lcw99/t5-base-korean-text-summary\"\n",
    "# tokenizer = AutoTokenizer.from_pretrained(model_dir)\n",
    "# model = AutoModelForSeq2SeqLM.from_pretrained(model_dir)\n",
    "\n",
    "# lcw99/t5-large-korean-text-summary\n",
    "# https://huggingface.co/lcw99/t5-large-korean-text-summary\n",
    "# model_dir = \"lcw99/t5-large-korean-text-summary\"\n",
    "# tokenizer = AutoTokenizer.from_pretrained(model_dir)\n",
    "# model = AutoModelForSeq2SeqLM.from_pretrained(model_dir)\n",
    "\n",
    "# KETI-AIR/ke-t5-base-ko\n",
    "# model_name = \"KETI-AIR/ke-t5-base-ko\"\n",
    "# tokenizer = T5Tokenizer.from_pretrained(model_name)\n",
    "# model = T5ForConditionalGeneration.from_pretrained(model_name)\n",
    "\n",
    "# KETI-AIR/ke-t5-small-ko\n",
    "# tokenizer = AutoTokenizer.from_pretrained(\"KETI-AIR/ke-t5-small-ko\")\n",
    "# model = AutoModelForSeq2SeqLM.from_pretrained(\"KETI-AIR/ke-t5-small-ko\")"
   ]
  },
  {
   "cell_type": "code",
   "execution_count": 47,
   "metadata": {},
   "outputs": [],
   "source": [
    "# review summarization using T5 pretrained model\n",
    "\n",
    "# make a folder to save data\n",
    "folder_path = '.\\\\result'\n",
    "makedirs(folder_path)\n",
    "\n",
    "data_path = '..\\\\reviewdataset\\\\review_posneg_theme_byjob\\\\'\n",
    "file_list = os.listdir(data_path)\n",
    "file_list_name = [file for file in file_list if file.endswith('.pkl')]\n",
    "\n",
    "for file in file_list_name:\n",
    "\tfilename = file.split('.pkl')[0]\n",
    "\n",
    "\t# load a pickle file\n",
    "\tdata_test = []\n",
    "\n",
    "\twith open('{}{}'.format(path, file), 'rb') as tf:\n",
    "\t\tdata_test = pickle.load(tf)\n",
    "\ttf.close()\n",
    "\n",
    "\t# join list elements in one sentence\n",
    "\tsentence_all = '\\n'.join(data_test)\n",
    "\n",
    "\t# model\n",
    "\tmodel_dir = \"lcw99/t5-large-korean-text-summary\"\n",
    "\ttokenizer = AutoTokenizer.from_pretrained(model_dir)\n",
    "\tmodel = AutoModelForSeq2SeqLM.from_pretrained(model_dir)\n",
    "\n",
    "\t# parameters\n",
    "\tmax_input_length = 512\n",
    "\n",
    "\tinputs = [\"summarize_summary: \" + sentence_all]  # summarize\n",
    "\n",
    "\tinputs = tokenizer(inputs, max_length=max_input_length, truncation=True, return_tensors=\"pt\")\n",
    "\toutput = model.generate(**inputs, num_beams=8, do_sample=True, min_length=10, max_length=100)\n",
    "\tdecoded_output = tokenizer.batch_decode(output, skip_special_tokens=True)[0]\n",
    "\tpredicted = nltk.sent_tokenize(decoded_output.strip())[0]\n",
    "\n",
    "\t# save a predicted sentence as a text file\n",
    "\twith open('{}/{}_smr.txt'.format(folder_path,filename),'w') as f:\n",
    "\t\tf.write(predicted)\n",
    "\tf.close()"
   ]
  }
 ],
 "metadata": {
  "kernelspec": {
   "display_name": "seyeon",
   "language": "python",
   "name": "python3"
  },
  "language_info": {
   "codemirror_mode": {
    "name": "ipython",
    "version": 3
   },
   "file_extension": ".py",
   "mimetype": "text/x-python",
   "name": "python",
   "nbconvert_exporter": "python",
   "pygments_lexer": "ipython3",
   "version": "3.11.4"
  }
 },
 "nbformat": 4,
 "nbformat_minor": 2
}
