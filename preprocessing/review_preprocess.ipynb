{
 "cells": [
  {
   "cell_type": "markdown",
   "metadata": {},
   "source": [
    "### 리뷰 데이터 전처리"
   ]
  },
  {
   "cell_type": "code",
   "execution_count": 12,
   "metadata": {},
   "outputs": [],
   "source": [
    "# import libraries\n",
    "import pandas as pd\n",
    "import numpy as np\n",
    "import pickle\n",
    "import os\n",
    "import re\n",
    "from konlpy.tag import Okt\n",
    "okt = Okt()\n",
    "from konlpy.tag import Kkma\n",
    "kkma = Kkma()\n",
    "from collections import Counter\n"
   ]
  },
  {
   "cell_type": "code",
   "execution_count": 2,
   "metadata": {},
   "outputs": [
    {
     "data": {
      "text/html": [
       "<div>\n",
       "<style scoped>\n",
       "    .dataframe tbody tr th:only-of-type {\n",
       "        vertical-align: middle;\n",
       "    }\n",
       "\n",
       "    .dataframe tbody tr th {\n",
       "        vertical-align: top;\n",
       "    }\n",
       "\n",
       "    .dataframe thead th {\n",
       "        text-align: right;\n",
       "    }\n",
       "</style>\n",
       "<table border=\"1\" class=\"dataframe\">\n",
       "  <thead>\n",
       "    <tr style=\"text-align: right;\">\n",
       "      <th></th>\n",
       "      <th>직무</th>\n",
       "      <th>고용 현황</th>\n",
       "      <th>근무지</th>\n",
       "      <th>날짜</th>\n",
       "      <th>별점</th>\n",
       "      <th>요약</th>\n",
       "      <th>장점</th>\n",
       "      <th>단점</th>\n",
       "      <th>경영진에게 바라는 점</th>\n",
       "    </tr>\n",
       "  </thead>\n",
       "  <tbody>\n",
       "    <tr>\n",
       "      <th>0</th>\n",
       "      <td>금융/재무</td>\n",
       "      <td>현직원</td>\n",
       "      <td>서울</td>\n",
       "      <td>NaN</td>\n",
       "      <td>5.0</td>\n",
       "      <td>\"수평적문화 , 워라밸 ,복지포인트 많이줌, 직원의견 긍정적으로 수렴.\"</td>\n",
       "      <td>\\n자동차보험 시장점유율이 빠르게 확보되는 중으로 성장성이 기대됨. 대물직원은 자회...</td>\n",
       "      <td>\\n일이 많고, 체계가 좀 부족하다는 점.차차 나아질거라고 봅니다.\\n</td>\n",
       "      <td>\\n앞으로 더 적극적으로 마케팅하고 내실을 다져 탄탄한 보험회사로 성장하길 기원합니...</td>\n",
       "    </tr>\n",
       "    <tr>\n",
       "      <th>1</th>\n",
       "      <td>디자인</td>\n",
       "      <td>현직원</td>\n",
       "      <td>서울</td>\n",
       "      <td>NaN</td>\n",
       "      <td>4.0</td>\n",
       "      <td>\"스타트업의 성격이 있어, 개인의 역할이 중요하다! 운영부터 구축까지 다양한 범위의...</td>\n",
       "      <td>\\n연차를 개인의 스케줄에 맞게 사용할 수 있다. 부서마다 다르겠지만, 다양성을 존...</td>\n",
       "      <td>\\n기본으로 제공되는 물품이 너무 적다.. 커피머신은 있지만 캡슐은 개인 구비해야하...</td>\n",
       "      <td>\\n아직은 체계가 덜 잡혀 있는 느낌이 있습니다. 앞으로 더 체계가 잡혔으면 좋겠습...</td>\n",
       "    </tr>\n",
       "    <tr>\n",
       "      <th>2</th>\n",
       "      <td>금융/재무</td>\n",
       "      <td>현직원</td>\n",
       "      <td>서울</td>\n",
       "      <td>NaN</td>\n",
       "      <td>5.0</td>\n",
       "      <td>\"워라밸 균형, 시차 출근제, 수평적인 분위기, 영어이름, 젊은 사람들이 많음\"</td>\n",
       "      <td>\\n직급 또는 직책으로 부르지 않고 스스로 지은 영어이름으로 부르며 사무실 분위기는...</td>\n",
       "      <td>\\n부서간 알앤알이 명확하지않고, 명확하지 않은 만큼 일을 미루는 경향이 있기도 합...</td>\n",
       "      <td>\\n작은 회사인만큼 직원들의 말에 귀기울여주기 바랍니다.\\n</td>\n",
       "    </tr>\n",
       "  </tbody>\n",
       "</table>\n",
       "</div>"
      ],
      "text/plain": [
       "      직무 고용 현황 근무지   날짜   별점  \\\n",
       "0  금융/재무   현직원  서울  NaN  5.0   \n",
       "1    디자인   현직원  서울  NaN  4.0   \n",
       "2  금융/재무   현직원  서울  NaN  5.0   \n",
       "\n",
       "                                                  요약  \\\n",
       "0           \"수평적문화 , 워라밸 ,복지포인트 많이줌, 직원의견 긍정적으로 수렴.\"   \n",
       "1  \"스타트업의 성격이 있어, 개인의 역할이 중요하다! 운영부터 구축까지 다양한 범위의...   \n",
       "2       \"워라밸 균형, 시차 출근제, 수평적인 분위기, 영어이름, 젊은 사람들이 많음\"   \n",
       "\n",
       "                                                  장점  \\\n",
       "0  \\n자동차보험 시장점유율이 빠르게 확보되는 중으로 성장성이 기대됨. 대물직원은 자회...   \n",
       "1  \\n연차를 개인의 스케줄에 맞게 사용할 수 있다. 부서마다 다르겠지만, 다양성을 존...   \n",
       "2  \\n직급 또는 직책으로 부르지 않고 스스로 지은 영어이름으로 부르며 사무실 분위기는...   \n",
       "\n",
       "                                                  단점  \\\n",
       "0            \\n일이 많고, 체계가 좀 부족하다는 점.차차 나아질거라고 봅니다.\\n   \n",
       "1  \\n기본으로 제공되는 물품이 너무 적다.. 커피머신은 있지만 캡슐은 개인 구비해야하...   \n",
       "2  \\n부서간 알앤알이 명확하지않고, 명확하지 않은 만큼 일을 미루는 경향이 있기도 합...   \n",
       "\n",
       "                                         경영진에게 바라는 점  \n",
       "0  \\n앞으로 더 적극적으로 마케팅하고 내실을 다져 탄탄한 보험회사로 성장하길 기원합니...  \n",
       "1  \\n아직은 체계가 덜 잡혀 있는 느낌이 있습니다. 앞으로 더 체계가 잡혔으면 좋겠습...  \n",
       "2                  \\n작은 회사인만큼 직원들의 말에 귀기울여주기 바랍니다.\\n  "
      ]
     },
     "execution_count": 2,
     "metadata": {},
     "output_type": "execute_result"
    }
   ],
   "source": [
    "# load dataset\n",
    "review = pd.read_csv('..\\\\reviewdataset\\\\review_raw.csv')\n",
    "review[:3] # check"
   ]
  },
  {
   "cell_type": "code",
   "execution_count": 3,
   "metadata": {},
   "outputs": [
    {
     "data": {
      "text/plain": [
       "array(['금융/재무', '디자인', '기획/경영', '개발', '마케팅/시장조사', '전문직', '서비스/고객지원',\n",
       "       '데이터', '인사/총무', '교육', '영업/제휴', '생산/제조', '미디어/홍보', '유통/무역', '기타',\n",
       "       '엔지니어링', nan, '연구개발', '생산관리/품질관리', '특수계층/공공',\n",
       "       '\\n          현직원\\n      ', '\\n          전직원\\n      ', '법률/법무',\n",
       "       '의약'], dtype=object)"
      ]
     },
     "execution_count": 3,
     "metadata": {},
     "output_type": "execute_result"
    }
   ],
   "source": [
    "# types of 직무\n",
    "review['직무'].unique()"
   ]
  },
  {
   "cell_type": "markdown",
   "metadata": {},
   "source": [
    "#### 결측치 제거"
   ]
  },
  {
   "cell_type": "code",
   "execution_count": 4,
   "metadata": {},
   "outputs": [
    {
     "data": {
      "text/plain": [
       "47827"
      ]
     },
     "execution_count": 4,
     "metadata": {},
     "output_type": "execute_result"
    }
   ],
   "source": [
    "# drop na\n",
    "review = review[(review['직무']!='\\n          전직원\\n      ')&(review['직무']!='\\n          현직원\\n      ')&(review['직무'].notna())]\n",
    "len(review)"
   ]
  },
  {
   "cell_type": "code",
   "execution_count": 5,
   "metadata": {},
   "outputs": [
    {
     "name": "stdout",
     "output_type": "stream",
     "text": [
      "<class 'pandas.core.frame.DataFrame'>\n",
      "Int64Index: 47827 entries, 0 to 48469\n",
      "Data columns (total 9 columns):\n",
      " #   Column       Non-Null Count  Dtype  \n",
      "---  ------       --------------  -----  \n",
      " 0   직무           47827 non-null  object \n",
      " 1   고용 현황        47827 non-null  object \n",
      " 2   근무지          47827 non-null  object \n",
      " 3   날짜           47266 non-null  object \n",
      " 4   별점           47827 non-null  float64\n",
      " 5   요약           47827 non-null  object \n",
      " 6   장점           47827 non-null  object \n",
      " 7   단점           47827 non-null  object \n",
      " 8   경영진에게 바라는 점  47827 non-null  object \n",
      "dtypes: float64(1), object(8)\n",
      "memory usage: 3.6+ MB\n"
     ]
    }
   ],
   "source": [
    "# check\n",
    "review.info()"
   ]
  },
  {
   "cell_type": "markdown",
   "metadata": {},
   "source": [
    "#### 클렌징"
   ]
  },
  {
   "cell_type": "code",
   "execution_count": 6,
   "metadata": {},
   "outputs": [],
   "source": [
    "# 장점\n",
    "review['장점'] = review['장점'].str.replace(\"\\n\",\" \")\n",
    "review['장점'] = review['장점'].str.replace(\"\\r\",\" \")\n",
    "review['장점'] = review['장점'].str.replace(\"\\t\",\" \")\n",
    "review['장점'] = review['장점'].str.replace(\",\",\"\")\n",
    "\n",
    "# 단점\n",
    "review['단점'] = review['단점'].str.replace(\"\\n\",\" \")\n",
    "review['단점'] = review['단점'].str.replace(\"\\r\",\" \")\n",
    "review['단점'] = review['단점'].str.replace(\"\\t\",\" \")\n",
    "review['단점'] = review['단점'].str.replace(\",\",\"\")\n",
    "\n",
    "# 요약\n",
    "review['요약'] = review['요약'].str.replace(\"\\n\",\" \")\n",
    "review['요약'] = review['요약'].str.replace(\"\\r\",\" \")\n",
    "review['요약'] = review['요약'].str.replace(\"\\t\",\" \")\n",
    "review['요약'] = review['요약'].str.replace(\",\",\"\")"
   ]
  },
  {
   "cell_type": "code",
   "execution_count": 7,
   "metadata": {},
   "outputs": [],
   "source": [
    "# regular expression\n",
    "review['장점']= review['장점'].str.replace(pat=r'[^\\w]',repl=r' ',regex=True)\n",
    "review['단점']= review['단점'].str.replace(pat=r'[^\\w]',repl=r' ',regex=True)"
   ]
  },
  {
   "cell_type": "code",
   "execution_count": 8,
   "metadata": {},
   "outputs": [],
   "source": [
    "# # okt normalization (poor performance)\n",
    "# for i, review in enumerate(review_df['장점']):\n",
    "#     review.loc[i,'장점'] =  okt.normalize(review)\n",
    "\n",
    "# for i, review in enumerate(review_df['단점']):\n",
    "#     review.loc[i,'단점'] =  okt.normalize(review)"
   ]
  },
  {
   "cell_type": "markdown",
   "metadata": {},
   "source": [
    "#### 장단점 컬럼 생성"
   ]
  },
  {
   "cell_type": "code",
   "execution_count": 9,
   "metadata": {},
   "outputs": [],
   "source": [
    "# new 장단점 column by combining 장점 and 단점 col\n",
    "review['장단점'] = review['장점']+review['단점']"
   ]
  },
  {
   "cell_type": "markdown",
   "metadata": {},
   "source": [
    "#### 테마 키워드 추출"
   ]
  },
  {
   "cell_type": "code",
   "execution_count": 10,
   "metadata": {},
   "outputs": [],
   "source": [
    "# check\n",
    "# okt.tagset"
   ]
  },
  {
   "cell_type": "code",
   "execution_count": 13,
   "metadata": {},
   "outputs": [],
   "source": [
    "# extract theme keywords (noun) by 장단점 data\n",
    "words_noun = []\n",
    "\n",
    "for rvw in review['장단점']:\n",
    "    pos = okt.nouns(rvw) # only Nouns\n",
    "    words_noun.extend(pos)\n",
    "# print(words_noun)\n",
    "\n",
    "# # of elements\n",
    "count_noun = Counter(words_noun)"
   ]
  },
  {
   "cell_type": "code",
   "execution_count": 14,
   "metadata": {},
   "outputs": [
    {
     "data": {
      "text/plain": [
       "{'회사': 25773,\n",
       " '수': 21920,\n",
       " '업무': 21750,\n",
       " '사람': 21315,\n",
       " '일': 17547,\n",
       " '직원': 15281,\n",
       " '분위기': 14210,\n",
       " '복지': 13974,\n",
       " '연차': 13341,\n",
       " '것': 11878,\n",
       " '팀': 11674,\n",
       " '야근': 11318,\n",
       " '함': 10979,\n",
       " '연봉': 10643,\n",
       " '눈치': 7846,\n",
       " '사용': 7766,\n",
       " '문화': 7066,\n",
       " '기업': 7014,\n",
       " '생각': 6963,\n",
       " '근무': 6308,\n",
       " '체계': 5958,\n",
       " '편': 5945,\n",
       " '시간': 5629,\n",
       " '등': 5577,\n",
       " '장점': 5485,\n",
       " '지원': 5373,\n",
       " '때': 5347,\n",
       " '부서': 5335,\n",
       " '가능': 5109,\n",
       " '비': 4819,\n",
       " '퇴근': 4680,\n",
       " '대한': 4588,\n",
       " '및': 4383,\n",
       " '수평': 4283,\n",
       " '그': 4233,\n",
       " '워': 4150,\n",
       " '때문': 4111,\n",
       " '제공': 4099,\n",
       " '임': 4058,\n",
       " '대표': 3965,\n",
       " '곳': 3951,\n",
       " '경우': 3900,\n",
       " '자유': 3809,\n",
       " '말': 3791,\n",
       " '단점': 3772,\n",
       " '경험': 3753,\n",
       " '위': 3747,\n",
       " '매우': 3681,\n",
       " '점': 3557,\n",
       " '환경': 3534,\n",
       " '퇴사': 3446,\n",
       " '사업': 3430,\n",
       " '정도': 3407,\n",
       " '개인': 3402,\n",
       " '성장': 3375,\n",
       " '보고': 3369,\n",
       " '출퇴근': 3282,\n",
       " '개발': 3273,\n",
       " '더': 3255,\n",
       " '능력': 3206,\n",
       " '안': 3169,\n",
       " '업계': 3064,\n",
       " '내': 3056,\n",
       " '급여': 3046,\n",
       " '다른': 3044,\n",
       " '사내': 3036,\n",
       " '느낌': 3024,\n",
       " '본인': 2996,\n",
       " '이': 2913,\n",
       " '편이': 2904,\n",
       " '경력': 2904,\n",
       " '기회': 2872,\n",
       " '월급': 2872,\n",
       " '휴가': 2870,\n",
       " '프로젝트': 2855,\n",
       " '출근': 2819,\n",
       " '위치': 2722,\n",
       " '시스템': 2708,\n",
       " '사무실': 2698,\n",
       " '식대': 2695,\n",
       " '신입': 2637,\n",
       " '거의': 2632,\n",
       " '점심': 2615,\n",
       " '부분': 2612,\n",
       " '좀': 2602,\n",
       " '교육': 2554,\n",
       " '조직': 2546,\n",
       " '간식': 2537,\n",
       " '별로': 2505,\n",
       " '강도': 2484,\n",
       " '스타트업': 2475,\n",
       " '돈': 2474,\n",
       " '하나': 2464,\n",
       " '진행': 2461,\n",
       " '안보': 2438,\n",
       " '구조': 2434,\n",
       " '수준': 2419,\n",
       " '직': 2377,\n",
       " '정말': 2348,\n",
       " '제도': 2312}"
      ]
     },
     "execution_count": 14,
     "metadata": {},
     "output_type": "execute_result"
    }
   ],
   "source": [
    "# top 100 keywords\n",
    "dict({key: value for key, value in sorted(count_noun.items(), key = lambda item: item[1], reverse=True)[:100]})"
   ]
  },
  {
   "cell_type": "code",
   "execution_count": 15,
   "metadata": {},
   "outputs": [],
   "source": [
    "# save & read as a pickle file\n",
    "\n",
    "# save\n",
    "with open('..\\\\reviewdataset\\\\keywords.pkl', 'wb') as tf:\n",
    "\tpickle.dump(count_noun, tf)\n",
    "\n",
    "# read\n",
    "with open('..\\\\reviewdataset\\\\keywords.pkl', 'rb')as tf:\n",
    "\tcount_noun = pickle.load(tf)"
   ]
  },
  {
   "cell_type": "markdown",
   "metadata": {},
   "source": [
    "##### 테마 분류\n",
    "- 워라벨: 업무, 일, 야근, 근무, 시간, 퇴근, 자유, 경험, 성장, 능력, 기회, 강도\n",
    "- 회사 분위기: 직원, 분위기, 팀, 눈치, 문화, 체계, 수평, 환경, 조직, 제도\n",
    "- 복지: 복지, 연차, 휴가, 식대\n",
    "- 연봉: 연봉, 급여, 월급, 돈\n",
    "- 회사 위치: 출퇴근, 위치 (개인마다 차이 있을 수도..)"
   ]
  },
  {
   "cell_type": "markdown",
   "metadata": {},
   "source": [
    "#### 직무별 긍정/부정별 데이터 나누기"
   ]
  },
  {
   "cell_type": "markdown",
   "metadata": {},
   "source": [
    "##### +a\n",
    "* ~~'음'으로 끝나는 부분에서 split\n",
    "* 맞춤법 교정(https://velog.io/@acdongpgm/NLP-%ED%95%9C%EA%B5%AD%EC%96%B4-%EA%B5%AC%EC%96%B4%EC%B2%B4%EB%8C%80%ED%99%94%EC%B2%B4-%EB%A7%9E%EC%B6%A4%EB%B2%95-%EA%B5%90%EC%A0%95%EA%B8%B0Korean-typos-corrector-ET5-Text2Text-Generation)"
   ]
  },
  {
   "cell_type": "code",
   "execution_count": 16,
   "metadata": {},
   "outputs": [],
   "source": [
    "# make a folder if it's not exist yet\n",
    "def makedirs(path):\n",
    "    if not os.path.exists(path):\n",
    "        os.makedirs(path)"
   ]
  },
  {
   "cell_type": "code",
   "execution_count": 18,
   "metadata": {},
   "outputs": [],
   "source": [
    "# make a folder to save dataset\n",
    "folderpath = '..\\\\reviewdataset\\\\review_posneg_byjob'\n",
    "makedirs(folderpath)\n",
    "\n",
    "# job list\n",
    "job = ['금융/재무', '디자인', '기획/경영', '개발', '마케팅/시장조사', '전문직', '서비스/고객지원',\n",
    "       '데이터', '인사/총무', '교육', '영업/제휴', '생산/제조', '미디어/홍보', '유통/무역', '기타',\n",
    "       '엔지니어링', '연구개발', '생산관리/품질관리', '특수계층/공공', '법률/법무', '의약']\n",
    "\n",
    "for i in range(len(job)):\n",
    "    job_name = job[i]\n",
    "    job_pos = []\n",
    "    job_neg = []\n",
    "    job_pos_sen = []\n",
    "    job_neg_sen = []\n",
    "    job_df = review[review['직무']==job[i]]\n",
    "\n",
    "    # positive ###\n",
    "    job_pos.extend(job_df['장점'])\n",
    "    for sentence in job_pos:\n",
    "        if re.search(r'[0-9].', sentence):\n",
    "            job_pos_sen.extend(re.split(r'[0-9].', sentence))\n",
    "        elif '.' in sentence:\n",
    "            job_pos_sen.extend(sentence.split('.'))\n",
    "        elif '/' in sentence:\n",
    "            job_pos_sen.extend(sentence.split('/'))\n",
    "        else:\n",
    "            job_pos_sen.append(sentence)\n",
    "    # save as pickle files\n",
    "    with open('{}\\\\{}_pos.pkl'.format(folderpath, job_name.replace('/','')), 'wb') as tf:\n",
    "        pickle.dump(job_pos_sen, tf)\n",
    "\n",
    "    # negative ###\n",
    "    job_neg.extend(job_df['단점'])\n",
    "    for sentence in job_neg:\n",
    "        if re.search(r'[0-9].', sentence):\n",
    "            job_neg_sen.extend(re.split(r'[0-9].', sentence))\n",
    "        elif '.' in sentence:\n",
    "            job_neg_sen.extend(sentence.split('.'))\n",
    "        elif '/' in sentence:\n",
    "            job_neg_sen.extend(sentence.split('/'))\n",
    "        else:\n",
    "            job_neg_sen.append(sentence)\n",
    "    # save as pickle files\n",
    "    with open('{}\\\\{}_neg.pkl'.format(folderpath, job_name.replace('/','')), 'wb') as tf:\n",
    "        pickle.dump(job_neg_sen, tf)"
   ]
  },
  {
   "cell_type": "markdown",
   "metadata": {},
   "source": [
    "#### 직무 안에서 테마별 데이터 나누기"
   ]
  },
  {
   "cell_type": "code",
   "execution_count": 19,
   "metadata": {},
   "outputs": [],
   "source": [
    "# dictionaries by theme\n",
    "balance = ['업무', '야근', '근무', '시간', '퇴근', '자유', '경험', '성장', '능력', '기회', '강도']\n",
    "environment = ['직원', '분위기', '팀', '눈치', '문화', '체계', '수평', '환경', '조직', '제도']\n",
    "benefit = ['복지', '연차', '휴가', '식대','자율출퇴근']\n",
    "salary = ['연봉', '급여', '월급', '돈']"
   ]
  },
  {
   "cell_type": "code",
   "execution_count": 20,
   "metadata": {},
   "outputs": [],
   "source": [
    "# make a folder to save dataset\n",
    "folderpath = '..\\\\reviewdataset\\\\review_posneg_theme_byjob'\n",
    "makedirs(folderpath)\n",
    "\n",
    "## pkl file list\n",
    "path = '..\\\\reviewdataset\\\\review_posneg_byjob\\\\'\n",
    "file_list = os.listdir(path)\n",
    "file_list_name = [file for file in file_list if file.endswith('.pkl')]\n",
    "\n",
    "# read pkl file\n",
    "for file in file_list_name:\n",
    "    filename = file.split('.pkl')[0]\n",
    "\n",
    "    with open('{}{}'.format(path, file), 'rb')as tf:\n",
    "\t    sentence_list = pickle.load(tf)\n",
    "    tf.close()\n",
    "\n",
    "    # remove ''\n",
    "    sentence_list = [v for v in sentence_list if v]\n",
    "\n",
    "    # make a list for sentences by theme (give 1st value as '')\n",
    "    balance_sen = ['']\n",
    "    environment_sen = ['']\n",
    "    benefit_sen = ['']\n",
    "    salary_sen = ['']\n",
    "\n",
    "    for sentence in sentence_list:\n",
    "        # balance\n",
    "        for bal in balance: # dictionary\n",
    "            if bal in sentence:\n",
    "                if sentence != balance_sen[-1]:\n",
    "                    balance_sen.append(sentence)\n",
    "                else:\n",
    "                    continue\n",
    "        \n",
    "        # environment\n",
    "        for env in environment: # dictionary\n",
    "            if env in sentence:\n",
    "                if sentence != environment_sen[-1]:\n",
    "                    environment_sen.append(sentence)\n",
    "                else:\n",
    "                    continue\n",
    "        \n",
    "        # benefit\n",
    "        for ben in benefit: # dictionary\n",
    "            if ben in sentence:\n",
    "                if sentence != benefit_sen[-1]:\n",
    "                    benefit_sen.append(sentence)\n",
    "                else:\n",
    "                    continue\n",
    "        \n",
    "        # salary\n",
    "        for sal in salary: # dictionary\n",
    "            if sal in sentence:\n",
    "                if sentence != salary_sen[-1]:\n",
    "                    salary_sen.append(sentence)\n",
    "                else:\n",
    "                    continue\n",
    "    \n",
    "    # pop the first value('')\n",
    "    balance_sen.pop(0)\n",
    "    environment_sen.pop(0)\n",
    "    benefit_sen.pop(0)\n",
    "    salary_sen.pop(0)\n",
    "\n",
    "    # pickle로 저장\n",
    "    with open('{}\\\\{}_balance.pkl'.format(folderpath, filename), 'wb') as tf:\n",
    "        pickle.dump(balance_sen, tf)\n",
    "    \n",
    "    with open('{}\\\\{}_environment.pkl'.format(folderpath, filename), 'wb') as tf:\n",
    "        pickle.dump(environment_sen, tf)\n",
    "    \n",
    "    with open('{}\\\\{}_benefit.pkl'.format(folderpath, filename), 'wb') as tf:\n",
    "        pickle.dump(benefit_sen, tf)\n",
    "    \n",
    "    with open('{}\\\\{}_salary.pkl'.format(folderpath, filename), 'wb') as tf:\n",
    "        pickle.dump(salary_sen, tf)\n"
   ]
  },
  {
   "cell_type": "code",
   "execution_count": 25,
   "metadata": {},
   "outputs": [
    {
     "data": {
      "text/plain": [
       "[' 부바부지만 워라벨이 좋습니다  일정조율이나 이런 부분도 먼저 물어보고 조율을 합니다  물론 급한 일정들은 늘 있지만 그래도 최대한 워라벨을 보장해 주려고하는 느김입니다  ',\n",
       " ' 성장성이 높은 기업이며대기업의 장점 과 스타트업 장점이 있는곳지하철이 연결됨 초고층뷰대표님 마인드가 직원들을 많이 생각한다고 느껴짐 ',\n",
       " ' 아직 대외적으로는 이미지가 좋은듯 하다  신기술로 뭔가 인슈어테크 하는것 처럼 보임 ',\n",
       " ' 눈치 안보고 연차 쓸수 있음 넉넉한 복지포인트 및 체력단련 휴가 지하철역에서 바로 회사로 출퇴근 할 수 있음 ',\n",
       " ' 수평적인 분위기 워라벨 자유로운 연차사용 쾌적한 사무실 역세권인 회사 입지 ',\n",
       " ' 이 회사으이 장점은 일단 해볼수있는게 많다는거다  본인이 하고자하면 할 수 있는게 많다  물론 그 안에서 약간의 정치가 필요하다 ',\n",
       " ' 영어이름 워라벨 급여 높은편 복지포인트 숙소비 체력단련휴가 ',\n",
       " ' 등 좋은점은 꽤 됨 ',\n",
       " ' 연차를 눈치안보고 쓸 수 있고 연차 추가로 ',\n",
       " ' 더줌그거말고 별다른 복지없음 ']"
      ]
     },
     "execution_count": 25,
     "metadata": {},
     "output_type": "execute_result"
    }
   ],
   "source": [
    "# check\n",
    "with open('..\\\\reviewdataset\\\\review_posneg_byjob\\\\개발_pos.pkl', 'rb')as tf:\n",
    "\tsentence_list = pickle.load(tf)\n",
    "tf.close()\n",
    "sentence_list[:10]"
   ]
  }
 ],
 "metadata": {
  "kernelspec": {
   "display_name": "base",
   "language": "python",
   "name": "python3"
  },
  "language_info": {
   "codemirror_mode": {
    "name": "ipython",
    "version": 3
   },
   "file_extension": ".py",
   "mimetype": "text/x-python",
   "name": "python",
   "nbconvert_exporter": "python",
   "pygments_lexer": "ipython3",
   "version": "3.11.4"
  }
 },
 "nbformat": 4,
 "nbformat_minor": 2
}
