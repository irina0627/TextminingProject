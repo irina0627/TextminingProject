{
 "cells": [
  {
   "cell_type": "markdown",
   "metadata": {},
   "source": [
    "### 공고 데이터의 직무 lv1, lv2 데이터프레임 만들기"
   ]
  },
  {
   "cell_type": "code",
   "execution_count": null,
   "metadata": {},
   "outputs": [],
   "source": [
    "# import libraries\n",
    "import pandas as pd\n",
    "import numpy as np"
   ]
  },
  {
   "cell_type": "code",
   "execution_count": null,
   "metadata": {},
   "outputs": [],
   "source": [
    "# load the data\n",
    "gongo = pd.read_csv('..\\\\gongodataset\\\\rawdataset_gongo.csv')"
   ]
  },
  {
   "cell_type": "markdown",
   "metadata": {},
   "source": [
    "#### 직무_lv1 DF"
   ]
  },
  {
   "cell_type": "code",
   "execution_count": null,
   "metadata": {},
   "outputs": [],
   "source": [
    "# check\n",
    "job_lv1 = gongo['직무_lv1'].value_counts().index"
   ]
  },
  {
   "cell_type": "code",
   "execution_count": null,
   "metadata": {},
   "outputs": [],
   "source": [
    "# if 직무_lv1 has only 1 value, add to list\n",
    "job_lv1_list = []\n",
    "for job in job_lv1:\n",
    "  if len(job)==1:\n",
    "    job_lv1_list.append(job[0])\n",
    "job_lv1_list\n",
    "\n",
    "# make 직무 lv1 DF\n",
    "job_lv1_df = pd.DataFrame(columns = job_lv1_list)\n",
    "\n",
    "# add an 'index' column for referencing an index in the org dataset\n",
    "job_lv1_df['index'] = gongo.index\n",
    "# if a job is same as a job column, give 1 or not 0\n",
    "for i, job in enumerate(gongo['직무_lv1']):\n",
    "  for category_job in job_lv1_list:\n",
    "    if category_job in job:\n",
    "      job_lv1_df.loc[i,category_job] = 1\n",
    "job_lv1_df.fillna(0, inplace=True)\n",
    "\n",
    "# save as a csv file\n",
    "job_lv1_df.to_csv('..\\\\gongodataset\\\\job_lv1.csv', encoding=\"utf-8-sig\", index=False)"
   ]
  },
  {
   "cell_type": "markdown",
   "metadata": {},
   "source": [
    "#### 직무_lv2 DF"
   ]
  },
  {
   "cell_type": "code",
   "execution_count": null,
   "metadata": {},
   "outputs": [],
   "source": [
    "# if 직무_lv2 has only 1 value, add to list\n",
    "job_lv2_list = []\n",
    "for job in job_lv2:\n",
    "  if len(job)==1:\n",
    "    job_lv2_list.append(job[0])\n",
    "job_lv2_list\n",
    "\n",
    "# make 직무 lv2 DF\n",
    "job_lv2_df = pd.DataFrame(columns = job_lv2_list)\n",
    "job_lv2_df\n",
    "job_lv2_df['index'] = gongo.index\n",
    "\n",
    "# add an 'index' column for referencing an index in the org dataset\n",
    "for i, job in enumerate(gongo['직무_lv2']):\n",
    "  for category_job in job_lv2_list:\n",
    "    if category_job in job:\n",
    "      job_lv2_df.loc[i,category_job] = 1\n",
    "job_lv2_df.fillna(0, inplace=True)\n",
    "\n",
    "# save as a csv file\n",
    "job_lv2_df.to_csv('..\\\\gongodataset\\\\job_lv2.csv', encoding=\"utf-8-sig\", index=False)"
   ]
  },
  {
   "cell_type": "code",
   "execution_count": null,
   "metadata": {},
   "outputs": [],
   "source": [
    "# if need, load dataset again for checking\n",
    "job_lv1_df = pd.read_csv('..\\\\gongodataset\\\\job_lv1.csv')\n",
    "job_lv2_df = pd.read_csv('..\\\\gongodataset\\\\job_lv2.csv')\n",
    "\n",
    "# check\n",
    "for column in job_lv1_df.columns:\n",
    "  print(column,len(job_lv1_df[job_lv1_df[column]==1]))\n",
    "\n",
    "# check\n",
    "for column in job_lv2_df.columns:\n",
    "  print(column,len(job_lv2_df[job_lv2_df[column]==1]))"
   ]
  }
 ],
 "metadata": {
  "language_info": {
   "name": "python"
  }
 },
 "nbformat": 4,
 "nbformat_minor": 2
}
