{
 "cells": [
  {
   "cell_type": "code",
   "execution_count": 1,
   "metadata": {},
   "outputs": [],
   "source": [
    "import numpy as np\n",
    "import pandas as pd\n",
    "import os\n"
   ]
  },
  {
   "cell_type": "code",
   "execution_count": 2,
   "metadata": {},
   "outputs": [],
   "source": [
    "def makedirs(path):\n",
    "    if not os.path.exists(path):\n",
    "        os.makedirs(path)"
   ]
  },
  {
   "cell_type": "code",
   "execution_count": 11,
   "metadata": {},
   "outputs": [],
   "source": [
    "# make a folder\n",
    "folderpath = '.\\\\result'\n",
    "makedirs(folderpath)\n",
    "\n",
    "path = '..\\\\gongodataset\\\\gongo_byjob\\\\'\n",
    "file_list = os.listdir(path)\n",
    "file_list_name = [file for file in file_list if file.endswith('.csv')]\n",
    "\n",
    "# by job\n",
    "for filename in file_list_name[:2]: # modified\n",
    "    # read df\n",
    "    df = pd.read_csv('{}{}'.format(path, filename))\n",
    "\n",
    "    # drop nan\n",
    "    df.dropna(subset = ['주요 업무','자격요건 및 우대사항'], inplace=True)\n",
    "\n",
    "    # data\n",
    "    work = df['주요 업무']\n",
    "    qual = df['자격요건 및 우대사항']\n",
    "\n",
    "    # make 1 str type\n",
    "    work_sen_all = '\\n'.join(work)\n",
    "    qual_sen_all = '\\n'.join(qual)\n",
    "        \n",
    "    # print('work: ',work_sen_all)\n",
    "    # print('qual: ',qual_sen_all)\n",
    "\n",
    "    with open('{}\\\\{}_work_all.txt'.format(folderpath,filename.replace('.csv','')),'w', encoding=\"UTF-8\") as f:\n",
    "    \tf.write(work_sen_all)\n",
    "    f.close()\n",
    "\n",
    "    with open('{}\\\\{}_qual_all.txt'.format(folderpath,filename.replace('.csv','')),'w', encoding=\"UTF-8\") as f:\n",
    "    \tf.write(qual_sen_all)\n",
    "    f.close()"
   ]
  },
  {
   "cell_type": "code",
   "execution_count": null,
   "metadata": {},
   "outputs": [],
   "source": []
  }
 ],
 "metadata": {
  "kernelspec": {
   "display_name": "Python 3",
   "language": "python",
   "name": "python3"
  },
  "language_info": {
   "codemirror_mode": {
    "name": "ipython",
    "version": 3
   },
   "file_extension": ".py",
   "mimetype": "text/x-python",
   "name": "python",
   "nbconvert_exporter": "python",
   "pygments_lexer": "ipython3",
   "version": "3.11.5"
  }
 },
 "nbformat": 4,
 "nbformat_minor": 2
}
