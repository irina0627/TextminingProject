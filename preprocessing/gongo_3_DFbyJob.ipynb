{
 "cells": [
  {
   "cell_type": "markdown",
   "metadata": {},
   "source": [
    "### 공고 데이터셋 직무(lv2)별 DF 만들기"
   ]
  },
  {
   "cell_type": "code",
   "execution_count": 7,
   "metadata": {},
   "outputs": [],
   "source": [
    "# import libraries\n",
    "import pandas as pd\n",
    "import numpy as np\n",
    "import os"
   ]
  },
  {
   "cell_type": "code",
   "execution_count": 3,
   "metadata": {},
   "outputs": [],
   "source": [
    "# load the dataset\n",
    "gongo = pd.read_csv('..\\\\gongodataset\\\\gongo_preprocessed.csv')\n",
    "job = pd.read_csv('..\\\\gongodataset\\\\job_lv2.csv')"
   ]
  },
  {
   "cell_type": "code",
   "execution_count": 4,
   "metadata": {},
   "outputs": [],
   "source": [
    "# job list\n",
    "job_lv2_list = job.columns[:-1]"
   ]
  },
  {
   "cell_type": "code",
   "execution_count": 5,
   "metadata": {},
   "outputs": [],
   "source": [
    "# make a foler if it's not existed\n",
    "def makedirs(path):\n",
    "    if not os.path.exists(path):\n",
    "        os.makedirs(path)"
   ]
  },
  {
   "cell_type": "code",
   "execution_count": 8,
   "metadata": {},
   "outputs": [],
   "source": [
    "# make a folder\n",
    "folderpath = '..\\\\gongodataset\\\\gongo_byjob'\n",
    "makedirs(folderpath)\n",
    "\n",
    "# make a csv file by same job\n",
    "for job_name in job_lv2_list:\n",
    "    \n",
    "    # init\n",
    "    df = pd.DataFrame()\n",
    "\n",
    "    # job index list\n",
    "    idx = job[job[job_name] == 1].index\n",
    "    \n",
    "    for i in idx:\n",
    "        df = pd.concat([df, gongo[gongo['index']==i]])\n",
    "    \n",
    "    # save as a csv file\n",
    "    df.to_csv('{}/{}.csv'.format(folderpath, job_name.replace('/','').replace(' ','')), index=False)"
   ]
  }
 ],
 "metadata": {
  "kernelspec": {
   "display_name": "base",
   "language": "python",
   "name": "python3"
  },
  "language_info": {
   "codemirror_mode": {
    "name": "ipython",
    "version": 3
   },
   "file_extension": ".py",
   "mimetype": "text/x-python",
   "name": "python",
   "nbconvert_exporter": "python",
   "pygments_lexer": "ipython3",
   "version": "3.11.4"
  }
 },
 "nbformat": 4,
 "nbformat_minor": 2
}
