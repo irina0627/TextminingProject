{
 "cells": [
  {
   "cell_type": "markdown",
   "metadata": {
    "id": "ZJbDFmA4nZ3f"
   },
   "source": [
    "### [텍스트마이닝] 잡플래닛 기업 리뷰, 공고 데이터 합치기"
   ]
  },
  {
   "cell_type": "code",
   "execution_count": 1,
   "metadata": {
    "id": "Lp_SBD0n6OyA"
   },
   "outputs": [],
   "source": [
    "import os\n",
    "import pandas as pd"
   ]
  },
  {
   "cell_type": "code",
   "execution_count": null,
   "metadata": {
    "id": "QAG4QkAq9VUR"
   },
   "outputs": [],
   "source": [
    "# !unzip '/content/drive/MyDrive/Colab Notebooks/dataset/jobplanet_data_-120~-30.zip' -d '/content/drive/MyDrive/Colab Notebooks/dataset'\n",
    "# !unzip '/content/drive/MyDrive/Colab Notebooks/dataset/jobplanet_data_-30~.zip' -d '/content/drive/MyDrive/Colab Notebooks/dataset'\n",
    "# !unzip '/content/drive/MyDrive/Colab Notebooks/dataset/데이터.zip' -d '/content/drive/MyDrive/Colab Notebooks/dataset'"
   ]
  },
  {
   "cell_type": "code",
   "execution_count": 3,
   "metadata": {
    "colab": {
     "base_uri": "https://localhost:8080/"
    },
    "id": "RA-cy1DunkBW",
    "outputId": "44f7bfae-ecd2-489c-e990-10dbb3c90a77"
   },
   "outputs": [
    {
     "name": "stdout",
     "output_type": "stream",
     "text": [
      "158\n"
     ]
    }
   ],
   "source": [
    "# total # of job categories\n",
    "folder_path = \"C:/Users/Andlab/jupyter_study/TextminingProject/crawling/dataset\"\n",
    "file_list = os.listdir(folder_path)\n",
    "file_count = len(file_list)\n",
    "print(file_count)"
   ]
  },
  {
   "cell_type": "code",
   "execution_count": 5,
   "metadata": {
    "colab": {
     "base_uri": "https://localhost:8080/"
    },
    "id": "zoa05ZTYEq7L",
    "outputId": "4706aacf-7d4f-4d94-d5dd-070850072886"
   },
   "outputs": [
    {
     "name": "stdout",
     "output_type": "stream",
     "text": [
      "158\n",
      "0\n"
     ]
    }
   ],
   "source": [
    "filenames = os.listdir(folder_path)\n",
    "count_gongo = 0\n",
    "count_review = 0\n",
    "\n",
    "gongo_list = []\n",
    "review_list = []\n",
    "\n",
    "for filename in filenames:\n",
    "  jobname, datatype = filename.strip('.csv').split('_')\n",
    "  count_gongo+=1\n",
    "  gongo_list.append(filename)\n",
    "  # if datatype == '공고':\n",
    "  #   count_gongo+=1\n",
    "  #   gongo_list.append(filename)\n",
    "  # elif datatype == '리뷰':\n",
    "  #   count_review+=1\n",
    "  #   review_list.append(filename)\n",
    "print(count_gongo)\n",
    "print(count_review)"
   ]
  },
  {
   "cell_type": "markdown",
   "metadata": {
    "id": "N8_RaPqKJLmU"
   },
   "source": [
    "#### 공고 데이터프레임 합치기"
   ]
  },
  {
   "cell_type": "code",
   "execution_count": 6,
   "metadata": {
    "colab": {
     "base_uri": "https://localhost:8080/"
    },
    "id": "fGUvf-FdHH7D",
    "outputId": "c86ae07b-aa0c-4655-8532-f42dd23c7ddf"
   },
   "outputs": [
    {
     "name": "stdout",
     "output_type": "stream",
     "text": [
      "5744\n"
     ]
    }
   ],
   "source": [
    "gongo_df = pd.DataFrame()\n",
    "for gongo in gongo_list:\n",
    "  df = pd.read_csv(folder_path+'/'+gongo)\n",
    "  # df['직종']=gongo.strip('.csv').split('_')[0]\n",
    "  # print(gongo,\"----\",len(df))\n",
    "  gongo_df = pd.concat([gongo_df, df])\n",
    "print(len(gongo_df))"
   ]
  },
  {
   "cell_type": "code",
   "execution_count": 7,
   "metadata": {
    "id": "zt_iWfapIoNt"
   },
   "outputs": [],
   "source": [
    "# save\n",
    "gongo_df.to_csv('..\\\\gongodataset\\\\gongo_raw.csv', index=False, encoding=\"utf-8-sig\")"
   ]
  },
  {
   "cell_type": "markdown",
   "metadata": {
    "id": "jWgms24UJHgJ"
   },
   "source": [
    "#### 리뷰 데이터프레임 합치기"
   ]
  },
  {
   "cell_type": "code",
   "execution_count": 5,
   "metadata": {},
   "outputs": [],
   "source": [
    "path = \"./review_dataset/\"\n",
    "review_list = os.listdir(path)\n",
    "review_df = pd.DataFrame()\n",
    "for review in review_list:\n",
    "    filepath = path + review\n",
    "    data = pd. read_csv(filepath)\n",
    "    review_df = pd.concat([review_df, data])"
   ]
  },
  {
   "cell_type": "code",
   "execution_count": 6,
   "metadata": {},
   "outputs": [
    {
     "name": "stdout",
     "output_type": "stream",
     "text": [
      "444985\n"
     ]
    }
   ],
   "source": [
    "print(len(review_df))"
   ]
  },
  {
   "cell_type": "code",
   "execution_count": 8,
   "metadata": {},
   "outputs": [
    {
     "name": "stdout",
     "output_type": "stream",
     "text": [
      "48470\n"
     ]
    }
   ],
   "source": [
    "review_df = review_df.drop_duplicates(subset = \"요약\", keep = \"first\", ignore_index = True)\n",
    "print(len(review_df))"
   ]
  },
  {
   "cell_type": "code",
   "execution_count": 10,
   "metadata": {},
   "outputs": [],
   "source": [
    "# save\n",
    "review_df.to_csv('..\\\\reviewdataset\\\\review_raw.csv', index=False, encoding=\"utf-8-sig\")"
   ]
  }
 ],
 "metadata": {
  "colab": {
   "provenance": []
  },
  "kernelspec": {
   "display_name": "Python 3 (ipykernel)",
   "language": "python",
   "name": "python3"
  },
  "language_info": {
   "codemirror_mode": {
    "name": "ipython",
    "version": 3
   },
   "file_extension": ".py",
   "mimetype": "text/x-python",
   "name": "python",
   "nbconvert_exporter": "python",
   "pygments_lexer": "ipython3",
   "version": "3.8.18"
  }
 },
 "nbformat": 4,
 "nbformat_minor": 1
}
