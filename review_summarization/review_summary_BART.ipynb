{
 "cells": [
  {
   "cell_type": "markdown",
   "metadata": {},
   "source": [
    "### 직무별-테마별 요약"
   ]
  },
  {
   "cell_type": "code",
   "execution_count": 3,
   "metadata": {},
   "outputs": [
    {
     "name": "stderr",
     "output_type": "stream",
     "text": [
      "[nltk_data] Downloading package punkt to\n",
      "[nltk_data]     C:\\Users\\sunga\\AppData\\Roaming\\nltk_data...\n",
      "[nltk_data]   Package punkt is already up-to-date!\n"
     ]
    },
    {
     "data": {
      "text/plain": [
       "True"
      ]
     },
     "execution_count": 3,
     "metadata": {},
     "output_type": "execute_result"
    }
   ],
   "source": [
    "# import libraries\n",
    "import pandas as pd\n",
    "import pickle\n",
    "import torch\n",
    "import os\n",
    "from transformers import AutoTokenizer, AutoModelForSeq2SeqLM\n",
    "from transformers import T5Tokenizer, T5ForConditionalGeneration\n",
    "import nltk\n",
    "nltk.download('punkt')\n",
    "\n",
    "# !pip install transformers[torch]==4.27.4\n",
    "# !pip install protobuf==3.20"
   ]
  },
  {
   "cell_type": "code",
   "execution_count": 2,
   "metadata": {},
   "outputs": [],
   "source": [
    "# make a folder if it's not exist yet\n",
    "def makedirs(path):\n",
    "    if not os.path.exists(path):\n",
    "        os.makedirs(path)"
   ]
  },
  {
   "cell_type": "code",
   "execution_count": 15,
   "metadata": {},
   "outputs": [],
   "source": [
    "# make a folder to save data\n",
    "folder_path = '.\\\\result2'\n",
    "makedirs(folder_path)\n",
    "\n",
    "data_path = '..\\\\reviewdataset\\\\review_posneg_theme_byjob\\\\'\n",
    "file_list = os.listdir(data_path)\n",
    "file_list_name = [file for file in file_list if file.endswith('.pkl')]\n",
    "\n",
    "for file in file_list_name:\n",
    "\tfilename = file.split('.pkl')[0]\n",
    "\n",
    "\t# load a pickle file\n",
    "\tdata_test = []\n",
    "\n",
    "\twith open('{}{}'.format(data_path, file), 'rb') as tf:\n",
    "\t\tdata_test = pickle.load(tf)\n",
    "\ttf.close()\n",
    "\n",
    "\t# join list elements in one sentence\n",
    "\tsentence_all = '\\n'.join(data_test)\n",
    "\n",
    "\t# model\n",
    "\ttokenizer = AutoTokenizer.from_pretrained(\"digit82/kobart-summarization\")\n",
    "\tmodel = AutoModelForSeq2SeqLM.from_pretrained(\"digit82/kobart-summarization\")\n",
    "\n",
    "\t# parameters\n",
    "\tmax_input_length = 512\n",
    "\n",
    "\tinputs = [\"summarize_summary: \" + sentence_all]  # summarize\n",
    "\n",
    "\tinputs = tokenizer(inputs, max_length=max_input_length, truncation=True, return_tensors=\"pt\")\n",
    "\toutput = model.generate(**inputs,\n",
    "\t\t\t\t\t\t do_sample=True,\n",
    "\t\t\t\t\t\t min_length=10,\n",
    "\t\t\t\t\t\t max_length=100,\n",
    "                         num_beams = 21,  \n",
    "                         repetition_penalty = 1000.1,\n",
    "                         temperature = 0.7,\n",
    "                         top_k = 20,\n",
    "                         top_p = 0.95,\n",
    "                         eos_token_id = 1)\n",
    "\tdecoded_output = tokenizer.batch_decode(output, skip_special_tokens=True)[0]\n",
    "\tpredicted = nltk.sent_tokenize(decoded_output.strip())[0]\n",
    "\n",
    "\t# save a predicted sentence as a text file\n",
    "\twith open('{}/{}_smr.txt'.format(folder_path,filename),'w') as f:\n",
    "\t\tf.write(predicted)\n",
    "\tf.close()"
   ]
  }
 ],
 "metadata": {
  "kernelspec": {
   "display_name": "seyeon",
   "language": "python",
   "name": "python3"
  },
  "language_info": {
   "codemirror_mode": {
    "name": "ipython",
    "version": 3
   },
   "file_extension": ".py",
   "mimetype": "text/x-python",
   "name": "python",
   "nbconvert_exporter": "python",
   "pygments_lexer": "ipython3",
   "version": "3.8.16"
  }
 },
 "nbformat": 4,
 "nbformat_minor": 2
}
