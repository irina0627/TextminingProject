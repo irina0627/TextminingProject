{
 "cells": [
  {
   "cell_type": "markdown",
   "metadata": {},
   "source": [
    "### 공고데이터셋 채용공고, 자격요건및우대사항 요약"
   ]
  },
  {
   "cell_type": "code",
   "execution_count": 66,
   "metadata": {},
   "outputs": [],
   "source": [
    "# make a folder\n",
    "folderpath = '.\\\\result'\n",
    "makedirs(folderpath)\n",
    "\n",
    "path = '..\\\\gongodataset\\\\gongo_byjob\\\\'\n",
    "file_list = os.listdir(path)\n",
    "file_list_name = [file for file in file_list if file.endswith('.csv')]\n",
    "\n",
    "# by job\n",
    "for filename in file_list_name[5:]: # modified\n",
    "\t# read df\n",
    "\tdf = pd.read_csv('{}{}'.format(path, filename))\n",
    "\n",
    "\t# drop nan\n",
    "\tdf.dropna(subset = ['주요 업무','자격요건 및 우대사항'], inplace=True)\n",
    "\n",
    "\t# data\n",
    "\twork = df['주요 업무']\n",
    "\tqual = df['자격요건 및 우대사항']\n",
    "\n",
    "\t# make 1 str type\n",
    "\twork_sen_all = '\\n'.join(work)\n",
    "\tqual_sen_all = '\\n'.join(qual)\n",
    "\n",
    "\t# model\n",
    "\tmodel_dir = \"lcw99/t5-large-korean-text-summary\"\n",
    "\ttokenizer = AutoTokenizer.from_pretrained(model_dir)\n",
    "\tmodel = AutoModelForSeq2SeqLM.from_pretrained(model_dir)\n",
    "\n",
    "\t# parameters\n",
    "\tmax_input_length = 512\n",
    "\n",
    "\t# summarize work sentences\n",
    "\tinputs_w = [\"summarize_summary: \" + work_sen_all]  # summarize\n",
    "\tinputs_w = tokenizer(inputs_w, max_length=max_input_length, truncation=True, return_tensors=\"pt\")\n",
    "\toutput_w = model.generate(**inputs_w, num_beams=8, do_sample=True, min_length=10, max_length=300)\n",
    "\tdecoded_output_w = tokenizer.batch_decode(output_w, skip_special_tokens=True)[0]\n",
    "\tpredicted_w = nltk.sent_tokenize(decoded_output_w.strip())[0]\n",
    "\n",
    "\t# summarize qualification sentences\n",
    "\tinputs_q = [\"summarize_summary: \" + qual_sen_all]  # summarize\n",
    "\tinputs_q = tokenizer(inputs_q, max_length=max_input_length, truncation=True, return_tensors=\"pt\")\n",
    "\toutput_q = model.generate(**inputs_q, num_beams=8, do_sample=True, min_length=10, max_length=300)\n",
    "\tdecoded_output_q = tokenizer.batch_decode(output_q, skip_special_tokens=True)[0]\n",
    "\tpredicted_q = nltk.sent_tokenize(decoded_output_q.strip())[0]\n",
    "\n",
    "\t# save a predicted sentence as a text file\n",
    "\twith open('{}\\\\{}_work.txt'.format(folderpath,filename.replace('.csv','')),'w') as f:\n",
    "\t\tf.write(predicted_w)\n",
    "\tf.close()\n",
    "\n",
    "\twith open('{}\\\\{}_qual.txt'.format(folderpath,filename.replace('.csv','')),'w') as f:\n",
    "\t\tf.write(predicted_q)\n",
    "\tf.close()"
   ]
  },
  {
   "cell_type": "code",
   "execution_count": null,
   "metadata": {},
   "outputs": [],
   "source": []
  }
 ],
 "metadata": {
  "kernelspec": {
   "display_name": "base",
   "language": "python",
   "name": "python3"
  },
  "language_info": {
   "codemirror_mode": {
    "name": "ipython",
    "version": 3
   },
   "file_extension": ".py",
   "mimetype": "text/x-python",
   "name": "python",
   "nbconvert_exporter": "python",
   "pygments_lexer": "ipython3",
   "version": "3.11.4"
  }
 },
 "nbformat": 4,
 "nbformat_minor": 2
}
