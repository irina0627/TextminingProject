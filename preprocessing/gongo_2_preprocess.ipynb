{
  "cells": [
    {
      "cell_type": "markdown",
      "metadata": {},
      "source": [
        "### 공고 데이터 전처리"
      ]
    },
    {
      "cell_type": "code",
      "execution_count": 1,
      "metadata": {
        "id": "B6DN9LcKswuF"
      },
      "outputs": [],
      "source": [
        "# import libraries\n",
        "import pandas as pd\n",
        "import numpy as np\n",
        "import re"
      ]
    },
    {
      "cell_type": "code",
      "execution_count": 4,
      "metadata": {
        "id": "ZRhiGk_mtL8i"
      },
      "outputs": [],
      "source": [
        "# load the dataset\n",
        "gongo = pd.read_csv('..\\\\gongodataset\\\\gongo_raw.csv')"
      ]
    },
    {
      "cell_type": "markdown",
      "metadata": {
        "id": "5p3ZSSjNva5F"
      },
      "source": [
        "#### 필요없는 열 삭제"
      ]
    },
    {
      "cell_type": "code",
      "execution_count": 6,
      "metadata": {
        "id": "UlOEsIqdtVIy"
      },
      "outputs": [],
      "source": [
        "# drop 직무(복수선택) column cause it's same as the 직무_lv2 column\n",
        "gongo.drop(['직무(복수선택)'],axis=1, inplace=True)"
      ]
    },
    {
      "cell_type": "markdown",
      "metadata": {
        "id": "FYX46jHsvfRt"
      },
      "source": [
        "#### 데이터 타입 변환"
      ]
    },
    {
      "cell_type": "code",
      "execution_count": 7,
      "metadata": {
        "id": "-AfP-iYEuFQX"
      },
      "outputs": [],
      "source": [
        "# '스킬' column:  str -> list\n",
        "for i in range(len(gongo)):\n",
        "  gongo['스킬'][i] = gongo['스킬'][i].strip(\"[\").strip(\"]\").replace(\"'\",\"\").split(\", \")"
      ]
    },
    {
      "cell_type": "code",
      "execution_count": 8,
      "metadata": {
        "id": "gTtWv4lwuH0B"
      },
      "outputs": [],
      "source": [
        "# '직무_lv1' column:  str -> list\n",
        "for i in range(len(gongo)):\n",
        "  gongo['직무_lv1'][i] = gongo['직무_lv1'][i].strip(\"[\").strip(\"]\").replace(\"'\",\"\").split(\", \")"
      ]
    },
    {
      "cell_type": "code",
      "execution_count": 9,
      "metadata": {
        "id": "HhZ4wSAou2p-"
      },
      "outputs": [],
      "source": [
        "# '직무_lv2' column:  str -> list\n",
        "for i in range(len(gongo)):\n",
        "  gongo['직무_lv2'][i] = gongo['직무_lv2'][i].strip(\"[\").strip(\"]\").replace(\"'\",\"\").split(\", \")"
      ]
    },
    {
      "cell_type": "markdown",
      "metadata": {
        "id": "gOe0tUyJsfYx"
      },
      "source": [
        "#### 기업 소개 ~ 우대사항 컬럼의 nan값 채우기"
      ]
    },
    {
      "cell_type": "code",
      "execution_count": 10,
      "metadata": {
        "colab": {
          "base_uri": "https://localhost:8080/",
          "height": 386
        },
        "id": "QY2PxQF2ulGS",
        "outputId": "a5cc59c9-88f8-4f46-f904-8abf468fcf9e"
      },
      "outputs": [
        {
          "data": {
            "text/html": [
              "<div>\n",
              "<style scoped>\n",
              "    .dataframe tbody tr th:only-of-type {\n",
              "        vertical-align: middle;\n",
              "    }\n",
              "\n",
              "    .dataframe tbody tr th {\n",
              "        vertical-align: top;\n",
              "    }\n",
              "\n",
              "    .dataframe thead th {\n",
              "        text-align: right;\n",
              "    }\n",
              "</style>\n",
              "<table border=\"1\" class=\"dataframe\">\n",
              "  <thead>\n",
              "    <tr style=\"text-align: right;\">\n",
              "      <th></th>\n",
              "      <th>회사명</th>\n",
              "      <th>고용 형태</th>\n",
              "      <th>스킬</th>\n",
              "      <th>기업 소개</th>\n",
              "      <th>주요 업무</th>\n",
              "      <th>자격 요건</th>\n",
              "      <th>우대 사항</th>\n",
              "      <th>채용 절차</th>\n",
              "      <th>복리후생</th>\n",
              "      <th>회사위치</th>\n",
              "      <th>직무_lv1</th>\n",
              "      <th>직무_lv2</th>\n",
              "    </tr>\n",
              "  </thead>\n",
              "  <tbody>\n",
              "    <tr>\n",
              "      <th>0</th>\n",
              "      <td>캐롯손해보험(주)</td>\n",
              "      <td>정규직</td>\n",
              "      <td>[Oracle, BI, SQL, dw, etl]</td>\n",
              "      <td>캐롯손해보험은 한화, SKT, 현대자동차, 알토스벤쳐스, 스틱인베스트먼트 등 대형 ...</td>\n",
              "      <td>• 캐롯 주행/계약 관련 지표 생성 및 제공해요.\\r\\n• Data-warehous...</td>\n",
              "      <td>• BI 및 ETL 관련 분야 경력 5년 이상이신 분이 필요해요.\\r\\n• DW 데...</td>\n",
              "      <td>• BI 툴 활용 및 Hadoop에 대한 연동을 이해하신 분이면 좋아요.\\r\\n• ...</td>\n",
              "      <td>• 해당 직무는 수시채용으로, 채용 완료 시 공고가 마감될 수 있어요.\\r\\n• 지...</td>\n",
              "      <td>[성장을 위한 휴식]\\r\\n• 매년 복지포인트 200만원\\r\\n• 설 차례비 지급\\...</td>\n",
              "      <td>서울 중구 을지로100 파인에비뉴 B동 20층, 캐롯손해보험</td>\n",
              "      <td>[데이터]</td>\n",
              "      <td>[BI 엔지니어]</td>\n",
              "    </tr>\n",
              "    <tr>\n",
              "      <th>1</th>\n",
              "      <td>(주)웅진</td>\n",
              "      <td>정규직</td>\n",
              "      <td>[POWER BI]</td>\n",
              "      <td>NaN</td>\n",
              "      <td>- MS Power Platform 프로젝트 수행 및 기술지원 (Automate, ...</td>\n",
              "      <td>【지원자격】 \\r\\n - 모집직급: 대리~과장 \\r\\n - MS Power Plat...</td>\n",
              "      <td>NaN</td>\n",
              "      <td>NaN</td>\n",
              "      <td>NaN</td>\n",
              "      <td>서울 중구 청계천로 24</td>\n",
              "      <td>[개발, 데이터]</td>\n",
              "      <td>[클라우드 개발, BI 엔지니어]</td>\n",
              "    </tr>\n",
              "    <tr>\n",
              "      <th>2</th>\n",
              "      <td>잡플래닛</td>\n",
              "      <td>정규직</td>\n",
              "      <td>[데이터분석, BI, python, SQL, Tableau, POWER BI]</td>\n",
              "      <td>더 나은 선택은 없을까?\\r\\n 지금 이 순간에도 잡플래닛을 방문하는 월 300만명...</td>\n",
              "      <td>[조직소개]\\r\\n잡플래닛의 데이터 조직은 Data 1st전략으로 서비스의 핵심 자...</td>\n",
              "      <td>[자격 조건]\\r\\n• SQL 상급, 파이썬 중급\\r\\n• Data Visualiz...</td>\n",
              "      <td>[우대 사항]\\r\\n• Statistics, Econometrics, Applied...</td>\n",
              "      <td>[전형 프로세스]\\r\\n• 서류전형 -&gt; 1차 실무 인터뷰 -&gt; 2차 협업부서 인터...</td>\n",
              "      <td>- 분 단위 시차 출퇴근제 (오전 7시~ 오전 10시 사이 자율 출퇴근)\\r\\n ...</td>\n",
              "      <td>서울특별시 강남구 테헤란로 509 엔씨타워 I, 10층</td>\n",
              "      <td>[데이터]</td>\n",
              "      <td>[BI 엔지니어]</td>\n",
              "    </tr>\n",
              "  </tbody>\n",
              "</table>\n",
              "</div>"
            ],
            "text/plain": [
              "         회사명 고용 형태                                           스킬  \\\n",
              "0  캐롯손해보험(주)   정규직                   [Oracle, BI, SQL, dw, etl]   \n",
              "1      (주)웅진   정규직                                   [POWER BI]   \n",
              "2       잡플래닛   정규직  [데이터분석, BI, python, SQL, Tableau, POWER BI]   \n",
              "\n",
              "                                               기업 소개  \\\n",
              "0  캐롯손해보험은 한화, SKT, 현대자동차, 알토스벤쳐스, 스틱인베스트먼트 등 대형 ...   \n",
              "1                                                NaN   \n",
              "2  더 나은 선택은 없을까?\\r\\n 지금 이 순간에도 잡플래닛을 방문하는 월 300만명...   \n",
              "\n",
              "                                               주요 업무  \\\n",
              "0  • 캐롯 주행/계약 관련 지표 생성 및 제공해요.\\r\\n• Data-warehous...   \n",
              "1  - MS Power Platform 프로젝트 수행 및 기술지원 (Automate, ...   \n",
              "2  [조직소개]\\r\\n잡플래닛의 데이터 조직은 Data 1st전략으로 서비스의 핵심 자...   \n",
              "\n",
              "                                               자격 요건  \\\n",
              "0  • BI 및 ETL 관련 분야 경력 5년 이상이신 분이 필요해요.\\r\\n• DW 데...   \n",
              "1  【지원자격】 \\r\\n - 모집직급: 대리~과장 \\r\\n - MS Power Plat...   \n",
              "2  [자격 조건]\\r\\n• SQL 상급, 파이썬 중급\\r\\n• Data Visualiz...   \n",
              "\n",
              "                                               우대 사항  \\\n",
              "0  • BI 툴 활용 및 Hadoop에 대한 연동을 이해하신 분이면 좋아요.\\r\\n• ...   \n",
              "1                                                NaN   \n",
              "2  [우대 사항]\\r\\n• Statistics, Econometrics, Applied...   \n",
              "\n",
              "                                               채용 절차  \\\n",
              "0  • 해당 직무는 수시채용으로, 채용 완료 시 공고가 마감될 수 있어요.\\r\\n• 지...   \n",
              "1                                                NaN   \n",
              "2  [전형 프로세스]\\r\\n• 서류전형 -> 1차 실무 인터뷰 -> 2차 협업부서 인터...   \n",
              "\n",
              "                                                복리후생  \\\n",
              "0  [성장을 위한 휴식]\\r\\n• 매년 복지포인트 200만원\\r\\n• 설 차례비 지급\\...   \n",
              "1                                                NaN   \n",
              "2   - 분 단위 시차 출퇴근제 (오전 7시~ 오전 10시 사이 자율 출퇴근)\\r\\n ...   \n",
              "\n",
              "                                회사위치     직무_lv1              직무_lv2  \n",
              "0  서울 중구 을지로100 파인에비뉴 B동 20층, 캐롯손해보험      [데이터]           [BI 엔지니어]  \n",
              "1                      서울 중구 청계천로 24  [개발, 데이터]  [클라우드 개발, BI 엔지니어]  \n",
              "2     서울특별시 강남구 테헤란로 509 엔씨타워 I, 10층      [데이터]           [BI 엔지니어]  "
            ]
          },
          "execution_count": 10,
          "metadata": {},
          "output_type": "execute_result"
        }
      ],
      "source": [
        "# check\n",
        "gongo[:3]"
      ]
    },
    {
      "cell_type": "code",
      "execution_count": 11,
      "metadata": {
        "colab": {
          "base_uri": "https://localhost:8080/"
        },
        "id": "nzZigROEzA4-",
        "outputId": "19581d1c-2478-4a9c-d414-2667a96c6339"
      },
      "outputs": [
        {
          "name": "stdout",
          "output_type": "stream",
          "text": [
            "회사명 0\n",
            "고용 형태 0\n",
            "스킬 0\n",
            "기업 소개 537\n",
            "주요 업무 0\n",
            "자격 요건 0\n",
            "우대 사항 413\n",
            "채용 절차 1930\n",
            "복리후생 455\n",
            "회사위치 36\n",
            "직무_lv1 0\n",
            "직무_lv2 0\n"
          ]
        }
      ],
      "source": [
        "# # of nan by columns\n",
        "for column_name in gongo.columns:\n",
        "  print(column_name, gongo[column_name].isna().sum())"
      ]
    },
    {
      "cell_type": "code",
      "execution_count": 12,
      "metadata": {},
      "outputs": [],
      "source": [
        "# combine '자격 요건' and '우대 사항' column to make '자격요건 및 우대사항' column\n",
        "gongo['자격요건 및 우대사항'] = gongo['자격 요건'] + gongo['우대 사항']"
      ]
    },
    {
      "cell_type": "code",
      "execution_count": 13,
      "metadata": {
        "id": "eSTQkzJgwNWD"
      },
      "outputs": [],
      "source": [
        "# dictionary\n",
        "position = '담당업무|담당 업무|주요업무|주요 업무|직무설명|직무 설명|어떤 일을 하나요?|직무소개|직무 소개' # 주요 업무\n",
        "qualification = '지원자격|지원 자격|필수조건|필수 조건|공통자격|공통 자격|자격요건|자격 요건|기술스택|기술 스택' # 자격 요건\n",
        "prefer = '우대사항|우대사항' # 우대 사항\n",
        "\n",
        "position_list = ['담당업무','담당 업무','주요업무','주요 업무','직무설명','직무 설명','어떤 일을 하나요?','직무소개','직무 소개','포지션 정보']\n",
        "qualification_list = ['지원자격','지원 자격','필수조건','필수 조건','공통자격','공통 자격','자격요건','자격 요건','기술스택','기술 스택']\n",
        "prefer_list = ['우대사항','우대 사항']\n",
        "\n",
        "# company = '회사설명|회사 설명|기업 소개|기업소개|팀 소개|팀소개|조직소개|조직 소개' # 기업 소개\n",
        "# hiring_process = '합류|채용절차|채용 절차' # 채용절차"
      ]
    },
    {
      "cell_type": "code",
      "execution_count": 14,
      "metadata": {
        "id": "0UU0g_wMO6q6"
      },
      "outputs": [],
      "source": [
        "# 주요 업무 column\n",
        "for i in range(len(gongo)):\n",
        "  # if a word from position dic is appeared: the content before that should be cut\n",
        "  for pos_word in position_list:\n",
        "    pos_word_index = gongo['주요 업무'][i].find(pos_word)\n",
        "    if pos_word_index!=-1: # other contents are appeared\n",
        "      gongo['주요 업무'][i] = gongo['주요 업무'][i][pos_word_index+len(pos_word):]\n",
        "\n",
        "  # if a word from qualification dic is appeared: the content after that should be cut\n",
        "  for qual_word in qualification_list:\n",
        "    qual_word_index = gongo['주요 업무'][i].find(qual_word)\n",
        "    if qual_word_index!=-1:\n",
        "      gongo['주요 업무'][i] = gongo['주요 업무'][i][:qual_word_index]\n",
        "\n",
        "  # if a word from prefer dic is appeared: the content after that should be cut\n",
        "  for prefer_word in prefer_list:\n",
        "    prefer_word_index = gongo['주요 업무'][i].find(prefer_word)\n",
        "    if prefer_word_index!=-1: # 다른 내용이 있는 경우\n",
        "      gongo['주요 업무'][i] = gongo['주요 업무'][i][:prefer_word_index]"
      ]
    },
    {
      "cell_type": "code",
      "execution_count": 15,
      "metadata": {
        "id": "_mX6hU3JC4Q1"
      },
      "outputs": [],
      "source": [
        "# 자격요건 및 우대사항 column\n",
        "# qual words are appeared: cut the before words\n",
        "for i in range(len(gongo)):\n",
        "  if pd.isna(gongo['자격요건 및 우대사항'][i]):\n",
        "    continue\n",
        "  else:\n",
        "    for qual_word in qualification_list:\n",
        "      qual_word_index = gongo['자격요건 및 우대사항'][i].find(qual_word)\n",
        "      if qual_word_index!=-1:\n",
        "        gongo['자격요건 및 우대사항'][i] = gongo['자격요건 및 우대사항'][i][qual_word_index+len(qual_word):]"
      ]
    },
    {
      "cell_type": "code",
      "execution_count": 16,
      "metadata": {
        "colab": {
          "base_uri": "https://localhost:8080/",
          "height": 961
        },
        "id": "b3xX1F1yPCuJ",
        "outputId": "4dafde37-d34e-4860-a26e-d3e81b3bcb64"
      },
      "outputs": [
        {
          "data": {
            "text/html": [
              "<div>\n",
              "<style scoped>\n",
              "    .dataframe tbody tr th:only-of-type {\n",
              "        vertical-align: middle;\n",
              "    }\n",
              "\n",
              "    .dataframe tbody tr th {\n",
              "        vertical-align: top;\n",
              "    }\n",
              "\n",
              "    .dataframe thead th {\n",
              "        text-align: right;\n",
              "    }\n",
              "</style>\n",
              "<table border=\"1\" class=\"dataframe\">\n",
              "  <thead>\n",
              "    <tr style=\"text-align: right;\">\n",
              "      <th></th>\n",
              "      <th>회사명</th>\n",
              "      <th>고용 형태</th>\n",
              "      <th>스킬</th>\n",
              "      <th>기업 소개</th>\n",
              "      <th>주요 업무</th>\n",
              "      <th>자격 요건</th>\n",
              "      <th>우대 사항</th>\n",
              "      <th>채용 절차</th>\n",
              "      <th>복리후생</th>\n",
              "      <th>회사위치</th>\n",
              "      <th>직무_lv1</th>\n",
              "      <th>직무_lv2</th>\n",
              "      <th>자격요건 및 우대사항</th>\n",
              "    </tr>\n",
              "  </thead>\n",
              "  <tbody>\n",
              "    <tr>\n",
              "      <th>0</th>\n",
              "      <td>캐롯손해보험(주)</td>\n",
              "      <td>정규직</td>\n",
              "      <td>[Oracle, BI, SQL, dw, etl]</td>\n",
              "      <td>캐롯손해보험은 한화, SKT, 현대자동차, 알토스벤쳐스, 스틱인베스트먼트 등 대형 ...</td>\n",
              "      <td>• 캐롯 주행/계약 관련 지표 생성 및 제공해요.\\r\\n• Data-warehous...</td>\n",
              "      <td>• BI 및 ETL 관련 분야 경력 5년 이상이신 분이 필요해요.\\r\\n• DW 데...</td>\n",
              "      <td>• BI 툴 활용 및 Hadoop에 대한 연동을 이해하신 분이면 좋아요.\\r\\n• ...</td>\n",
              "      <td>• 해당 직무는 수시채용으로, 채용 완료 시 공고가 마감될 수 있어요.\\r\\n• 지...</td>\n",
              "      <td>[성장을 위한 휴식]\\r\\n• 매년 복지포인트 200만원\\r\\n• 설 차례비 지급\\...</td>\n",
              "      <td>서울 중구 을지로100 파인에비뉴 B동 20층, 캐롯손해보험</td>\n",
              "      <td>[데이터]</td>\n",
              "      <td>[BI 엔지니어]</td>\n",
              "      <td>• BI 및 ETL 관련 분야 경력 5년 이상이신 분이 필요해요.\\r\\n• DW 데...</td>\n",
              "    </tr>\n",
              "    <tr>\n",
              "      <th>1</th>\n",
              "      <td>(주)웅진</td>\n",
              "      <td>정규직</td>\n",
              "      <td>[POWER BI]</td>\n",
              "      <td>NaN</td>\n",
              "      <td>- MS Power Platform 프로젝트 수행 및 기술지원 (Automate, ...</td>\n",
              "      <td>【지원자격】 \\r\\n - 모집직급: 대리~과장 \\r\\n - MS Power Plat...</td>\n",
              "      <td>NaN</td>\n",
              "      <td>NaN</td>\n",
              "      <td>NaN</td>\n",
              "      <td>서울 중구 청계천로 24</td>\n",
              "      <td>[개발, 데이터]</td>\n",
              "      <td>[클라우드 개발, BI 엔지니어]</td>\n",
              "      <td>NaN</td>\n",
              "    </tr>\n",
              "    <tr>\n",
              "      <th>2</th>\n",
              "      <td>잡플래닛</td>\n",
              "      <td>정규직</td>\n",
              "      <td>[데이터분석, BI, python, SQL, Tableau, POWER BI]</td>\n",
              "      <td>더 나은 선택은 없을까?\\r\\n 지금 이 순간에도 잡플래닛을 방문하는 월 300만명...</td>\n",
              "      <td>]\\r\\n• 전사 Business Intelligence : Dashboard, R...</td>\n",
              "      <td>[자격 조건]\\r\\n• SQL 상급, 파이썬 중급\\r\\n• Data Visualiz...</td>\n",
              "      <td>[우대 사항]\\r\\n• Statistics, Econometrics, Applied...</td>\n",
              "      <td>[전형 프로세스]\\r\\n• 서류전형 -&gt; 1차 실무 인터뷰 -&gt; 2차 협업부서 인터...</td>\n",
              "      <td>- 분 단위 시차 출퇴근제 (오전 7시~ 오전 10시 사이 자율 출퇴근)\\r\\n ...</td>\n",
              "      <td>서울특별시 강남구 테헤란로 509 엔씨타워 I, 10층</td>\n",
              "      <td>[데이터]</td>\n",
              "      <td>[BI 엔지니어]</td>\n",
              "      <td>[자격 조건]\\r\\n• SQL 상급, 파이썬 중급\\r\\n• Data Visualiz...</td>\n",
              "    </tr>\n",
              "  </tbody>\n",
              "</table>\n",
              "</div>"
            ],
            "text/plain": [
              "         회사명 고용 형태                                           스킬  \\\n",
              "0  캐롯손해보험(주)   정규직                   [Oracle, BI, SQL, dw, etl]   \n",
              "1      (주)웅진   정규직                                   [POWER BI]   \n",
              "2       잡플래닛   정규직  [데이터분석, BI, python, SQL, Tableau, POWER BI]   \n",
              "\n",
              "                                               기업 소개  \\\n",
              "0  캐롯손해보험은 한화, SKT, 현대자동차, 알토스벤쳐스, 스틱인베스트먼트 등 대형 ...   \n",
              "1                                                NaN   \n",
              "2  더 나은 선택은 없을까?\\r\\n 지금 이 순간에도 잡플래닛을 방문하는 월 300만명...   \n",
              "\n",
              "                                               주요 업무  \\\n",
              "0  • 캐롯 주행/계약 관련 지표 생성 및 제공해요.\\r\\n• Data-warehous...   \n",
              "1  - MS Power Platform 프로젝트 수행 및 기술지원 (Automate, ...   \n",
              "2  ]\\r\\n• 전사 Business Intelligence : Dashboard, R...   \n",
              "\n",
              "                                               자격 요건  \\\n",
              "0  • BI 및 ETL 관련 분야 경력 5년 이상이신 분이 필요해요.\\r\\n• DW 데...   \n",
              "1  【지원자격】 \\r\\n - 모집직급: 대리~과장 \\r\\n - MS Power Plat...   \n",
              "2  [자격 조건]\\r\\n• SQL 상급, 파이썬 중급\\r\\n• Data Visualiz...   \n",
              "\n",
              "                                               우대 사항  \\\n",
              "0  • BI 툴 활용 및 Hadoop에 대한 연동을 이해하신 분이면 좋아요.\\r\\n• ...   \n",
              "1                                                NaN   \n",
              "2  [우대 사항]\\r\\n• Statistics, Econometrics, Applied...   \n",
              "\n",
              "                                               채용 절차  \\\n",
              "0  • 해당 직무는 수시채용으로, 채용 완료 시 공고가 마감될 수 있어요.\\r\\n• 지...   \n",
              "1                                                NaN   \n",
              "2  [전형 프로세스]\\r\\n• 서류전형 -> 1차 실무 인터뷰 -> 2차 협업부서 인터...   \n",
              "\n",
              "                                                복리후생  \\\n",
              "0  [성장을 위한 휴식]\\r\\n• 매년 복지포인트 200만원\\r\\n• 설 차례비 지급\\...   \n",
              "1                                                NaN   \n",
              "2   - 분 단위 시차 출퇴근제 (오전 7시~ 오전 10시 사이 자율 출퇴근)\\r\\n ...   \n",
              "\n",
              "                                회사위치     직무_lv1              직무_lv2  \\\n",
              "0  서울 중구 을지로100 파인에비뉴 B동 20층, 캐롯손해보험      [데이터]           [BI 엔지니어]   \n",
              "1                      서울 중구 청계천로 24  [개발, 데이터]  [클라우드 개발, BI 엔지니어]   \n",
              "2     서울특별시 강남구 테헤란로 509 엔씨타워 I, 10층      [데이터]           [BI 엔지니어]   \n",
              "\n",
              "                                         자격요건 및 우대사항  \n",
              "0  • BI 및 ETL 관련 분야 경력 5년 이상이신 분이 필요해요.\\r\\n• DW 데...  \n",
              "1                                                NaN  \n",
              "2  [자격 조건]\\r\\n• SQL 상급, 파이썬 중급\\r\\n• Data Visualiz...  "
            ]
          },
          "execution_count": 16,
          "metadata": {},
          "output_type": "execute_result"
        }
      ],
      "source": [
        "# check\n",
        "gongo[:3]"
      ]
    },
    {
      "cell_type": "markdown",
      "metadata": {},
      "source": [
        "#### 인덱스 컬럼 부여"
      ]
    },
    {
      "cell_type": "code",
      "execution_count": 17,
      "metadata": {},
      "outputs": [],
      "source": [
        "# add index column\n",
        "gongo[\"index\"] = gongo.index"
      ]
    },
    {
      "cell_type": "markdown",
      "metadata": {},
      "source": [
        "#### 문자열 정제"
      ]
    },
    {
      "cell_type": "code",
      "execution_count": 18,
      "metadata": {},
      "outputs": [
        {
          "name": "stderr",
          "output_type": "stream",
          "text": [
            "C:\\Users\\Andlab\\AppData\\Local\\Temp\\ipykernel_7108\\3200414828.py:6: SettingWithCopyWarning: \n",
            "A value is trying to be set on a copy of a slice from a DataFrame\n",
            "\n",
            "See the caveats in the documentation: https://pandas.pydata.org/pandas-docs/stable/user_guide/indexing.html#returning-a-view-versus-a-copy\n",
            "  gongo['주요 업무'][i] = re.compile(r'[^\\w\\s]').sub('',string)\n",
            "C:\\Users\\Andlab\\AppData\\Local\\Temp\\ipykernel_7108\\3200414828.py:12: SettingWithCopyWarning: \n",
            "A value is trying to be set on a copy of a slice from a DataFrame\n",
            "\n",
            "See the caveats in the documentation: https://pandas.pydata.org/pandas-docs/stable/user_guide/indexing.html#returning-a-view-versus-a-copy\n",
            "  gongo['자격요건 및 우대사항'][i] = re.compile(r'[^\\w\\s]').sub('',string)\n"
          ]
        }
      ],
      "source": [
        "# regular expression\n",
        "for i, string in enumerate(gongo['주요 업무']):\n",
        "    if type(string)!=str:\n",
        "        continue\n",
        "    else:\n",
        "        gongo['주요 업무'][i] = re.compile(r'[^\\w\\s]').sub('',string)\n",
        "\n",
        "for i, string in enumerate(gongo['자격요건 및 우대사항']):\n",
        "    if type(string)!=str:\n",
        "        continue\n",
        "    else:\n",
        "        gongo['자격요건 및 우대사항'][i] = re.compile(r'[^\\w\\s]').sub('',string)"
      ]
    },
    {
      "cell_type": "code",
      "execution_count": 20,
      "metadata": {},
      "outputs": [],
      "source": [
        "# remove 'ㆍ'\n",
        "gongo[\"주요 업무\"] = gongo[\"주요 업무\"].str.replace(pat=r'[ㆍ]', repl=r'', regex=True)\n",
        "\n",
        "gongo[\"자격요건 및 우대사항\"] = gongo[\"자격요건 및 우대사항\"].str.replace(pat=r'[ㆍ]', repl=r'', regex=True)\n",
        "\n",
        "# '\\n'제거\n",
        "gongo[\"주요 업무\"] = gongo[\"주요 업무\"].str.replace(pat=r'[\\n\\t\\r]', repl=r'', regex=True)\n",
        "\n",
        "gongo[\"자격요건 및 우대사항\"] = gongo[\"자격요건 및 우대사항\"].str.replace(pat=r'[\\n\\t\\r]', repl=r'', regex=True)"
      ]
    },
    {
      "cell_type": "code",
      "execution_count": 22,
      "metadata": {},
      "outputs": [
        {
          "data": {
            "text/html": [
              "<div>\n",
              "<style scoped>\n",
              "    .dataframe tbody tr th:only-of-type {\n",
              "        vertical-align: middle;\n",
              "    }\n",
              "\n",
              "    .dataframe tbody tr th {\n",
              "        vertical-align: top;\n",
              "    }\n",
              "\n",
              "    .dataframe thead th {\n",
              "        text-align: right;\n",
              "    }\n",
              "</style>\n",
              "<table border=\"1\" class=\"dataframe\">\n",
              "  <thead>\n",
              "    <tr style=\"text-align: right;\">\n",
              "      <th></th>\n",
              "      <th>회사명</th>\n",
              "      <th>고용 형태</th>\n",
              "      <th>스킬</th>\n",
              "      <th>기업 소개</th>\n",
              "      <th>주요 업무</th>\n",
              "      <th>자격 요건</th>\n",
              "      <th>우대 사항</th>\n",
              "      <th>채용 절차</th>\n",
              "      <th>복리후생</th>\n",
              "      <th>회사위치</th>\n",
              "      <th>직무_lv1</th>\n",
              "      <th>직무_lv2</th>\n",
              "      <th>자격요건 및 우대사항</th>\n",
              "      <th>index</th>\n",
              "    </tr>\n",
              "  </thead>\n",
              "  <tbody>\n",
              "    <tr>\n",
              "      <th>0</th>\n",
              "      <td>캐롯손해보험(주)</td>\n",
              "      <td>정규직</td>\n",
              "      <td>[Oracle, BI, SQL, dw, etl]</td>\n",
              "      <td>캐롯손해보험은 한화, SKT, 현대자동차, 알토스벤쳐스, 스틱인베스트먼트 등 대형 ...</td>\n",
              "      <td>캐롯 주행계약 관련 지표 생성 및 제공해요 Datawarehouse 및 Data ...</td>\n",
              "      <td>• BI 및 ETL 관련 분야 경력 5년 이상이신 분이 필요해요.\\r\\n• DW 데...</td>\n",
              "      <td>• BI 툴 활용 및 Hadoop에 대한 연동을 이해하신 분이면 좋아요.\\r\\n• ...</td>\n",
              "      <td>• 해당 직무는 수시채용으로, 채용 완료 시 공고가 마감될 수 있어요.\\r\\n• 지...</td>\n",
              "      <td>[성장을 위한 휴식]\\r\\n• 매년 복지포인트 200만원\\r\\n• 설 차례비 지급\\...</td>\n",
              "      <td>서울 중구 을지로100 파인에비뉴 B동 20층, 캐롯손해보험</td>\n",
              "      <td>[데이터]</td>\n",
              "      <td>[BI 엔지니어]</td>\n",
              "      <td>BI 및 ETL 관련 분야 경력 5년 이상이신 분이 필요해요 DW 데이터 모델링 ...</td>\n",
              "      <td>0</td>\n",
              "    </tr>\n",
              "    <tr>\n",
              "      <th>2</th>\n",
              "      <td>잡플래닛</td>\n",
              "      <td>정규직</td>\n",
              "      <td>[데이터분석, BI, python, SQL, Tableau, POWER BI]</td>\n",
              "      <td>더 나은 선택은 없을까?\\r\\n 지금 이 순간에도 잡플래닛을 방문하는 월 300만명...</td>\n",
              "      <td>전사 Business Intelligence  Dashboard Report 개발...</td>\n",
              "      <td>[자격 조건]\\r\\n• SQL 상급, 파이썬 중급\\r\\n• Data Visualiz...</td>\n",
              "      <td>[우대 사항]\\r\\n• Statistics, Econometrics, Applied...</td>\n",
              "      <td>[전형 프로세스]\\r\\n• 서류전형 -&gt; 1차 실무 인터뷰 -&gt; 2차 협업부서 인터...</td>\n",
              "      <td>- 분 단위 시차 출퇴근제 (오전 7시~ 오전 10시 사이 자율 출퇴근)\\r\\n ...</td>\n",
              "      <td>서울특별시 강남구 테헤란로 509 엔씨타워 I, 10층</td>\n",
              "      <td>[데이터]</td>\n",
              "      <td>[BI 엔지니어]</td>\n",
              "      <td>자격 조건 SQL 상급 파이썬 중급 Data Visualization 소프트웨어Ta...</td>\n",
              "      <td>2</td>\n",
              "    </tr>\n",
              "    <tr>\n",
              "      <th>3</th>\n",
              "      <td>(주)포바이포</td>\n",
              "      <td>정규직</td>\n",
              "      <td>[재무, 세무조사, 손익분석, 재무총괄]</td>\n",
              "      <td>“Into the NEW ERA” \\r\\n\\r\\n2017년에 설립된 주식회사 포바이...</td>\n",
              "      <td>재무총괄회계세무자금 연간 경영계획 수립 장기적 재무적 손익분석 및 예측 MA 업무...</td>\n",
              "      <td>• 기업재무 총괄 책임자 경험 1년 이상 \\r\\n• 해당 직무 경력 10년 이상\\r...</td>\n",
              "      <td>• 빠르게 성장하는 IT / 스타트업을 경험해보신 분\\r\\n• 1년 이상의 CFO ...</td>\n",
              "      <td>NaN</td>\n",
              "      <td>[근무환경]\\r\\n- 월요일 출근 1pm - 퇴근 7pm  (화~금 10am-7pm...</td>\n",
              "      <td>서울 서초구 강남대로 479, 12층,13층,14층</td>\n",
              "      <td>[기획/경영]</td>\n",
              "      <td>[CEO (Chief Executive Officer)]</td>\n",
              "      <td>기업재무 총괄 책임자 경험 1년 이상  해당 직무 경력 10년 이상 회계법인 경험...</td>\n",
              "      <td>3</td>\n",
              "    </tr>\n",
              "  </tbody>\n",
              "</table>\n",
              "</div>"
            ],
            "text/plain": [
              "         회사명 고용 형태                                           스킬  \\\n",
              "0  캐롯손해보험(주)   정규직                   [Oracle, BI, SQL, dw, etl]   \n",
              "2       잡플래닛   정규직  [데이터분석, BI, python, SQL, Tableau, POWER BI]   \n",
              "3    (주)포바이포   정규직                       [재무, 세무조사, 손익분석, 재무총괄]   \n",
              "\n",
              "                                               기업 소개  \\\n",
              "0  캐롯손해보험은 한화, SKT, 현대자동차, 알토스벤쳐스, 스틱인베스트먼트 등 대형 ...   \n",
              "2  더 나은 선택은 없을까?\\r\\n 지금 이 순간에도 잡플래닛을 방문하는 월 300만명...   \n",
              "3  “Into the NEW ERA” \\r\\n\\r\\n2017년에 설립된 주식회사 포바이...   \n",
              "\n",
              "                                               주요 업무  \\\n",
              "0   캐롯 주행계약 관련 지표 생성 및 제공해요 Datawarehouse 및 Data ...   \n",
              "2   전사 Business Intelligence  Dashboard Report 개발...   \n",
              "3   재무총괄회계세무자금 연간 경영계획 수립 장기적 재무적 손익분석 및 예측 MA 업무...   \n",
              "\n",
              "                                               자격 요건  \\\n",
              "0  • BI 및 ETL 관련 분야 경력 5년 이상이신 분이 필요해요.\\r\\n• DW 데...   \n",
              "2  [자격 조건]\\r\\n• SQL 상급, 파이썬 중급\\r\\n• Data Visualiz...   \n",
              "3  • 기업재무 총괄 책임자 경험 1년 이상 \\r\\n• 해당 직무 경력 10년 이상\\r...   \n",
              "\n",
              "                                               우대 사항  \\\n",
              "0  • BI 툴 활용 및 Hadoop에 대한 연동을 이해하신 분이면 좋아요.\\r\\n• ...   \n",
              "2  [우대 사항]\\r\\n• Statistics, Econometrics, Applied...   \n",
              "3  • 빠르게 성장하는 IT / 스타트업을 경험해보신 분\\r\\n• 1년 이상의 CFO ...   \n",
              "\n",
              "                                               채용 절차  \\\n",
              "0  • 해당 직무는 수시채용으로, 채용 완료 시 공고가 마감될 수 있어요.\\r\\n• 지...   \n",
              "2  [전형 프로세스]\\r\\n• 서류전형 -> 1차 실무 인터뷰 -> 2차 협업부서 인터...   \n",
              "3                                                NaN   \n",
              "\n",
              "                                                복리후생  \\\n",
              "0  [성장을 위한 휴식]\\r\\n• 매년 복지포인트 200만원\\r\\n• 설 차례비 지급\\...   \n",
              "2   - 분 단위 시차 출퇴근제 (오전 7시~ 오전 10시 사이 자율 출퇴근)\\r\\n ...   \n",
              "3  [근무환경]\\r\\n- 월요일 출근 1pm - 퇴근 7pm  (화~금 10am-7pm...   \n",
              "\n",
              "                                회사위치   직무_lv1  \\\n",
              "0  서울 중구 을지로100 파인에비뉴 B동 20층, 캐롯손해보험    [데이터]   \n",
              "2     서울특별시 강남구 테헤란로 509 엔씨타워 I, 10층    [데이터]   \n",
              "3       서울 서초구 강남대로 479, 12층,13층,14층  [기획/경영]   \n",
              "\n",
              "                            직무_lv2  \\\n",
              "0                        [BI 엔지니어]   \n",
              "2                        [BI 엔지니어]   \n",
              "3  [CEO (Chief Executive Officer)]   \n",
              "\n",
              "                                         자격요건 및 우대사항  index  \n",
              "0   BI 및 ETL 관련 분야 경력 5년 이상이신 분이 필요해요 DW 데이터 모델링 ...      0  \n",
              "2  자격 조건 SQL 상급 파이썬 중급 Data Visualization 소프트웨어Ta...      2  \n",
              "3   기업재무 총괄 책임자 경험 1년 이상  해당 직무 경력 10년 이상 회계법인 경험...      3  "
            ]
          },
          "execution_count": 22,
          "metadata": {},
          "output_type": "execute_result"
        }
      ],
      "source": [
        "# drop NaN\n",
        "gongo.dropna(subset = ['주요 업무','자격요건 및 우대사항'], inplace=True)\n",
        "gongo[:3]"
      ]
    },
    {
      "cell_type": "code",
      "execution_count": 23,
      "metadata": {},
      "outputs": [],
      "source": [
        "# save as csv\n",
        "gongo.to_csv(\"..\\\\gongodataset\\\\gongo_preprocessed.csv\", index=False, encoding='utf-8')"
      ]
    }
  ],
  "metadata": {
    "colab": {
      "provenance": []
    },
    "kernelspec": {
      "display_name": "Python 3",
      "name": "python3"
    },
    "language_info": {
      "codemirror_mode": {
        "name": "ipython",
        "version": 3
      },
      "file_extension": ".py",
      "mimetype": "text/x-python",
      "name": "python",
      "nbconvert_exporter": "python",
      "pygments_lexer": "ipython3",
      "version": "3.11.4"
    }
  },
  "nbformat": 4,
  "nbformat_minor": 0
}
